{
  "cells": [
    {
      "cell_type": "markdown",
      "metadata": {
        "id": "anSst8GA8_6K"
      },
      "source": [
        "![image.png](data:image/png;base64,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)\n",
        "\n",
        "**Alunas:** Maria Fernanda Caetano e Polyana Albanaz da Silva\n",
        "\n",
        "**Disciplina:** Estrutura de Dados II\n",
        "\n",
        "**Professor:** Marco Antonio Torrez Rojas\n"
      ]
    },
    {
      "cell_type": "markdown",
      "metadata": {
        "id": "MD5-kTxf-GA2"
      },
      "source": [
        "## Implementação do Grafo"
      ]
    },
    {
      "cell_type": "markdown",
      "metadata": {
        "id": "lbIPyzWWHoIn"
      },
      "source": [
        "#### Classes (Processamento de Dados)"
      ]
    },
    {
      "cell_type": "code",
      "execution_count": 1,
      "metadata": {
        "colab": {
          "base_uri": "https://localhost:8080/"
        },
        "id": "7VKYNjci1YmE",
        "outputId": "be5ce3ea-95f4-44a8-c3dc-bc75f7b11647"
      },
      "outputs": [
        {
          "name": "stdout",
          "output_type": "stream",
          "text": [
            "Collecting networkx\n",
            "  Downloading networkx-3.3-py3-none-any.whl (1.7 MB)\n",
            "     ---------------------------------------- 0.0/1.7 MB ? eta -:--:--\n",
            "     - -------------------------------------- 0.1/1.7 MB 2.3 MB/s eta 0:00:01\n",
            "     ------- -------------------------------- 0.3/1.7 MB 3.4 MB/s eta 0:00:01\n",
            "     ----------------------- ---------------- 1.0/1.7 MB 7.0 MB/s eta 0:00:01\n",
            "     -------------------------------------- - 1.6/1.7 MB 8.7 MB/s eta 0:00:01\n",
            "     ---------------------------------------  1.7/1.7 MB 8.3 MB/s eta 0:00:01\n",
            "     ---------------------------------------- 1.7/1.7 MB 6.8 MB/s eta 0:00:00\n",
            "Installing collected packages: networkx\n",
            "Successfully installed networkx-3.3\n"
          ]
        },
        {
          "name": "stderr",
          "output_type": "stream",
          "text": [
            "WARNING: There was an error checking the latest version of pip.\n"
          ]
        }
      ],
      "source": [
        "!pip install networkx"
      ]
    },
    {
      "cell_type": "markdown",
      "metadata": {
        "id": "FSaedTiG1rgJ"
      },
      "source": [
        "importanto bibliotecas para plotagem (posterior) dos grafos"
      ]
    },
    {
      "cell_type": "code",
      "execution_count": 2,
      "metadata": {
        "id": "OJkP8gLR1b_p"
      },
      "outputs": [
        {
          "ename": "ModuleNotFoundError",
          "evalue": "No module named 'networkx'",
          "output_type": "error",
          "traceback": [
            "\u001b[1;31m---------------------------------------------------------------------------\u001b[0m",
            "\u001b[1;31mModuleNotFoundError\u001b[0m                       Traceback (most recent call last)",
            "Cell \u001b[1;32mIn[2], line 1\u001b[0m\n\u001b[1;32m----> 1\u001b[0m \u001b[38;5;28;01mimport\u001b[39;00m \u001b[38;5;21;01mnetworkx\u001b[39;00m \u001b[38;5;28;01mas\u001b[39;00m \u001b[38;5;21;01mnx\u001b[39;00m\n",
            "\u001b[1;31mModuleNotFoundError\u001b[0m: No module named 'networkx'"
          ]
        }
      ],
      "source": [
        "import networkx as nx"
      ]
    },
    {
      "cell_type": "markdown",
      "metadata": {
        "id": "HqsE5dMG1tNf"
      },
      "source": [
        "Criando uma classe de estrurua \"nó\" de um grafo (utilizada pela classe ListaEncadeada)"
      ]
    },
    {
      "cell_type": "code",
      "execution_count": null,
      "metadata": {
        "id": "-xHu5EhX1Uv5"
      },
      "outputs": [],
      "source": [
        "class Nodo():\n",
        "    def __init__(self, dado, proximo):\n",
        "      self.dado = dado # representa a informação do grafo\n",
        "      self.prox = proximo # aponta para o próximo nó relacionado na lista encadeada"
      ]
    },
    {
      "cell_type": "markdown",
      "metadata": {
        "id": "5FpLwKuu1ylY"
      },
      "source": [
        "Criando uma classe de estrutura de Lista Encadeada (utilizada na classe Grafo)"
      ]
    },
    {
      "cell_type": "code",
      "execution_count": null,
      "metadata": {
        "id": "RHkTQz7h1lGw"
      },
      "outputs": [],
      "source": [
        "class ListaEncadeada():\n",
        "    def __init__(self):\n",
        "        self.head = None\n",
        "\n",
        "    def inserir_inicio(self, listinha, novo_dado):\n",
        "        # inserindo no início, cria um novo nodo e define-o como a 'cabeça' da estrutura\n",
        "        novo_nodo = Nodo(novo_dado, self.head) # criar um objeto nó\n",
        "        listinha.head = novo_nodo # definir novo nó gerado como head da lista\n",
        "\n",
        "    def inserir_depois(self, lista, nodo_ant, novo_dado):\n",
        "        # inserindo depois, incluirá um novo nó depois do elemento 'cabeça'\n",
        "        novo_nodo = Nodo(novo_dado, nodo_ant.prox) # criar um objeto nó\n",
        "        nodo_ant = self.head # definir o anterior como o head (vai ficar em 'primeiro' na lista)\n",
        "        nodo_ant.prox = novo_nodo # definir o prox do head como o novo nó gerado\n",
        "\n",
        "    def imprimir_lista(self, listinha):\n",
        "      # imprimir uma lista em formato lista encadeada padrão :)\n",
        "        atual = listinha.head # criar uma variável de controle para a estrutura de repetição\n",
        "        while atual:\n",
        "            if isinstance(atual.prox.dado, list): # verifica se o elemento tem formato certo\n",
        "                print(f\"{atual.dado} → [\", end=\"\")\n",
        "                for subitem in atual.prox.dado: # verifica elementos dentro das listas que indicam as arestas, dentro da lista maior\n",
        "                    print(f\"{subitem}\", end=\"\")\n",
        "                    if subitem != atual.prox.dado[-1]:\n",
        "                        print(\", \", end=\"\")\n",
        "                print(\"]\", end=\"\")\n",
        "            else:\n",
        "                print(f\"{atual.dado}\", end=\"\")\n",
        "            atual = atual.prox.prox # segue para o próximo vértice (na lista maior, tem [vértice, aresta, vértice, aresta])\n",
        "            if atual:\n",
        "                print(\" → \", end=\"\")\n",
        "        print()\n",
        "\n",
        "    def imprimir_lista_visual(self, listinha):\n",
        "      # a mesma coisa que a acima, mas imprime em um formato diferente\n",
        "        print(\"\\033[33mLista de Adjacências (como lista visual)\\033[0m\")\n",
        "        atual = listinha.head\n",
        "        while atual:\n",
        "            if isinstance(atual.prox.dado, list):  # verifica se o elemento tem o formato certo\n",
        "                print(f\"{atual.dado} → \", end=\"\")\n",
        "                for subitem in atual.prox.dado: # verifica elementos dentro das listas que indicam as arestas, dentro da lista maior\n",
        "                    print(f\"{subitem}\", end=\"\")\n",
        "                    if subitem != atual.prox.dado[-1]:\n",
        "                        print(\", \", end=\"\")\n",
        "                print(\"\\n\", end=\"\")\n",
        "            else:\n",
        "                print(f\"{atual.dado}\", end=\"\")\n",
        "            atual = atual.prox.prox  # segue para o próximo vértice (na lista maior, tem [vértice, aresta, vértice, aresta])\n",
        "        print()\n",
        "\n",
        "     # não é importante para a contrução da estrutra do projeto, mais foi interessante incluir na implementação :)\n",
        "    def buscar_nodo(self, listinha, valor):\n",
        "        print(f\"Buscando valor {valor}...\")\n",
        "        corrente = listinha.head\n",
        "        while corrente and corrente.dado != valor:\n",
        "            corrente = corrente.prox\n",
        "        print(f\"\\033[32mO elemento {valor} foi encontrado na lista.\\033[0m\") if corrente != None else print(f\"\\033[31mO elemento {valor} não foi encontrado na lista.\\033[0m\")\n",
        "\n",
        "    def remover_nodo(self, listinha, valor):\n",
        "        assert self.head, \"\\033[31mImpossível remover valor de lista vazia.\\033[0m\"\n",
        "        corrente = self.head\n",
        "\n",
        "         # Se o nodo a ser removido é a cabeça da lista.\n",
        "        if self.head.dado == valor:\n",
        "            self.head = self.head.prox\n",
        "        else:\n",
        "            # Encontrar a posição do elemento a ser removido.\n",
        "            anterior = None\n",
        "            while corrente and corrente.dado != valor:\n",
        "                anterior = corrente\n",
        "                corrente = corrente.prox\n",
        "            # Se o nodo corrente é o nodo a ser removido\n",
        "            if corrente:\n",
        "                anterior.prox = corrente.prox\n",
        "            else:\n",
        "                # Se o nodo corrente é a cauda da lista.\n",
        "                anterior.prox = None\n",
        "\n",
        "        # Verificar se o valor foi removido ou não\n",
        "        if not corrente:\n",
        "            print(f\"\\033[31mO elemento procurado não existe\\033[0m\\n\\033[1mLista Atual:\\033[0m {listinha}\")\n",
        "        else:\n",
        "            print(f\"\\033[32mO elemento procurado foi removido\\033[0m\\n\\033[1mLista Atual:\\033[0m {listinha}\")\n",
        "\n",
        "    def __str__ (self):\n",
        "        return (f\"[{str(self.head)}]\")"
      ]
    },
    {
      "cell_type": "markdown",
      "metadata": {
        "id": "287iiPXa2BpV"
      },
      "source": [
        "Criando uma classe para detemrinar e imprimir uma matriz (utilizada pela classe Grafo)"
      ]
    },
    {
      "cell_type": "code",
      "execution_count": null,
      "metadata": {
        "id": "O_P4t-1216QY"
      },
      "outputs": [],
      "source": [
        "\n",
        "class Matriz():\n",
        "    def __init__(self, vertices, arestas):\n",
        "        self.vertices = vertices\n",
        "        self.arestas = arestas\n",
        "\n",
        "    def matriz_adjacente(self, lista_adjacentezinha):  # criando uma matriz adjacente a partir da lista comum, não da estrutra encadeada\n",
        "        matriz_adj = [[0] * len(self.vertices) for _ in range(len(self.vertices))]\n",
        "        for i, v in enumerate(self.vertices):\n",
        "            for j, u in enumerate(self.vertices):\n",
        "                if u in lista_adjacentezinha[self.vertices.index(v)*2+1]:  # Verifica se u está na lista de adjacência de v\n",
        "                    matriz_adj[i][j] = 1\n",
        "\n",
        "        # imprimir a matriz adjacente gerada\n",
        "        print(\"\\033[33mMatriz de Adjacências:\\033[0m\")\n",
        "        print(\"  \", end=\"\")\n",
        "        for v in self.vertices:\n",
        "            print(f\"\\033[34m{v}\\033[0m \", end=\"\")\n",
        "        print()\n",
        "        for i, v in enumerate(self.vertices):\n",
        "            print(f'\\033[34m{v}\\033[0m', end=\" \")\n",
        "            for j, u in enumerate(self.vertices):\n",
        "                print(matriz_adj[i][j], end=\" \")\n",
        "            print()\n",
        "\n",
        "    def matriz_incidencias(self, grafinho): # criando uma matriz de incidências a partir da lista comum, não da estrutra encadeada\n",
        "        matriz_incidencia = [[0] * len(self.arestas) for _ in range(len(self.vertices))]\n",
        "        for i, v in enumerate(self.vertices):\n",
        "            for j, a in enumerate(self.arestas):\n",
        "                if v in a:\n",
        "                    matriz_incidencia[i][j] = 1\n",
        "\n",
        "        # imprimir a matriz de incidencias gerada\n",
        "        print(\"\\033[33mMatriz de Incidências:\\033[0m\")\n",
        "        print(\"  \", end=\"\")\n",
        "        for a in self.arestas:\n",
        "            print(f\"\\033[34m{a}\\033[0m \", end=\"\")\n",
        "        print()\n",
        "        for i, v in enumerate(self.vertices):\n",
        "            print(f'\\033[34m{v}\\033[0m', end=\"  \")\n",
        "            for j, _ in enumerate(self.arestas):\n",
        "                print(matriz_incidencia[i][j], end=\"  \")\n",
        "            print()\n",
        "\n",
        "    def matriz_incidencias_orientado(self):\n",
        "      # criando uma matriz de incidências (para um grafo orientado) a partir da lista comum, não da estrutra encadeada\n",
        "        matriz_inc_dir = [[0] * len(self.arestas) for _ in range(len(self.vertices))]\n",
        "        for i, vertice in enumerate(self.vertices):\n",
        "            for j, aresta in enumerate(self.arestas):\n",
        "                if vertice == aresta[0]:  # Se o vértice é o ponto de partida da aresta\n",
        "                    matriz_inc_dir[i][j] = '-1'\n",
        "                elif vertice == aresta[1]:  # Se o vértice é o ponto de chegada da aresta\n",
        "                    matriz_inc_dir[i][j] = '+1'\n",
        "                else:\n",
        "                    matriz_inc_dir[i][j] = ' 0'\n",
        "\n",
        "\n",
        "        print(\"\\033[33mMatriz de Incidências:\\033[0m\")\n",
        "        print(\"   \", end=\"\")\n",
        "        for a in self.arestas:\n",
        "            print(f\"\\033[34m{a}\\033[0m  \", end=\"\")\n",
        "        print()\n",
        "        for i, v in enumerate(self.vertices):\n",
        "            print(f'\\033[34m{v}\\033[0m', end=\"  \")\n",
        "            for j, _ in enumerate(self.arestas):\n",
        "                print(matriz_inc_dir[i][j], end=\"  \")\n",
        "            print()\n"
      ]
    },
    {
      "cell_type": "markdown",
      "metadata": {
        "id": "3YrSsLI92Gpr"
      },
      "source": [
        "Criando a classe grafo (classe principal)"
      ]
    },
    {
      "cell_type": "code",
      "execution_count": null,
      "metadata": {
        "id": "1KP9LuLD2Jyt"
      },
      "outputs": [],
      "source": [
        "class Grafo():\n",
        "  def __init__(self, vertices, arestas):\n",
        "    self.vertices = vertices\n",
        "    self.arestas = arestas\n",
        "    self.lista_adj = None\n",
        "    self.matriz_adj = None\n",
        "    self.matriz_inc = None\n",
        "\n",
        "  # Função para verificar itens repetidos em uma lista\n",
        "  # Necessário para controle na função encontra_adjacentes\n",
        "  def tem_itens_repetidos(self, lista):\n",
        "    return len(lista) != len(set(lista))\n",
        "\n",
        "  # Função encontra djacentes vai criar uma lista, que será usada\n",
        "  # para criar um objeto da classe ListaEncadeada\n",
        "  def encontra_adjacentes(self):\n",
        "    adjacencias = []\n",
        "    for v in self.vertices:\n",
        "        # inclui o vértice na lista maior\n",
        "        adjacencias.append(v)\n",
        "        adjacentes = [] # lista de controle para incluir conjunto de arestas na lista maior\n",
        "\n",
        "        # IMPORTANTE: o sistema de arestas usado nesta implementação é \"VérticeVértice\".\n",
        "        # Em outros casos, com nomeclaturas ou sistemas de contrução diferentes, essa função\n",
        "        # não será necessária.\n",
        "\n",
        "        for a in self.arestas:\n",
        "            if v == a[0]:\n",
        "                adjacentes.append(a[1])\n",
        "            elif v == a[1]:\n",
        "                adjacentes.append(a[0])\n",
        "        # Verifica se há itens repetidos na lista de adjacentes\n",
        "        if self.tem_itens_repetidos(adjacentes):\n",
        "            adjacentes = list(set(adjacentes))  # Remove itens duplicados\n",
        "        adjacencias.append(adjacentes) # Inclui a lista de vértices adjacentes dentro da lista maior\n",
        "    return adjacencias\n",
        "\n",
        "  def mostra_adjacencias (self):\n",
        "    print(\"\\n\\033[33mLista de Adjacências (como lista comum)\\033[0m\")\n",
        "    print(self.encontra_adjacentes()) # imprime a lista como uma lista comum, ou seja, não estruturada no padrão de classe solicitado\n",
        "\n",
        "  def cria_lista_encadeada(self):\n",
        "    self.lista_adj = ListaEncadeada()\n",
        "    adjacencias = self.encontra_adjacentes()\n",
        "    # usando o método de inserir elementos da classe ListaEncadeada, inclui os elementos da lista comum dentro da estrutura\n",
        "    for i in reversed(adjacencias):\n",
        "        self.lista_adj.inserir_inicio(self.lista_adj, i)\n",
        "\n",
        "  def mostrar_lista_adj(self):\n",
        "    print(\"\\033[33mLista de Adjacências (como lista encadeada)\\033[0m\")\n",
        "    self.lista_adj.imprimir_lista(self.lista_adj) # chama a função de imprimir dentro da classe ListaEncadeada\n",
        "\n",
        "  def mostrar_lista_encadeada(self):\n",
        "        listinha = self.lista_adj\n",
        "        self.lista_adj = ListaEncadeada()\n",
        "        self.lista_adj.imprimir_lista_visual(listinha)\n",
        "\n",
        "  def matriz_adjacente(self):\n",
        "        lista_adjacentes = self.encontra_adjacentes()\n",
        "        matriz_adj = Matriz(self.vertices, self.arestas)\n",
        "        matriz_adj.matriz_adjacente(lista_adjacentes)\n",
        "\n",
        "  def matriz_incidencias(self):\n",
        "        lista_incidencias = self.encontra_adjacentes()\n",
        "        matriz_inc = Matriz(self.vertices, self.arestas)\n",
        "        matriz_inc.matriz_incidencias(lista_incidencias)\n",
        "\n",
        "  def matriz_incidencias_orientado(self):\n",
        "        lista_incidencias = self.encontra_adjacentes()\n",
        "        matriz_inc = Matriz(self.vertices, self.arestas)\n",
        "        matriz_inc.matriz_incidencias_orientado()\n",
        "\n",
        "  def desenhar_grafo(self):\n",
        "      print(\"\\033[33mRepresentação do Grafo\\033[0m\\nEste é um grafo não-direcionado\")\n",
        "      grafinho = nx.Graph()\n",
        "      arestas_adicionadas = set()  # armazena arestas\n",
        "      for aresta in self.arestas: # Adicionando as arestas\n",
        "          v1, v2 = aresta[0], aresta[1]\n",
        "          if (v2, v1) not in arestas_adicionadas: # Verifica se a aresta inversa já foi adicionada\n",
        "              grafinho.add_edge(v1, v2)\n",
        "              arestas_adicionadas.add((v1, v2))\n",
        "\n",
        "      # Desenhando o grafo\n",
        "      pos = nx.spring_layout(grafinho)  # Define a posição dos nós\n",
        "      nx.draw(grafinho, pos, with_labels=True, node_color='y', node_size=800, font_size=12, font_weight='bold')\n",
        "\n",
        "  def desenhar_grafo_direcionado(self):\n",
        "    print(\"\\033[33mRepresentação do Grafo\\033[0m\\nEste é um grafo direcionado\")\n",
        "    grafinho = nx.DiGraph() # Criar um objeto grafo direcionado\n",
        "    grafinho.add_nodes_from(self.vertices) # Adicionar vértices\n",
        "    grafinho.add_edges_from(self.arestas) # Adicionar arestas\n",
        "\n",
        "    # Desenhar o grafo\n",
        "    pos = nx.spring_layout(grafinho)  # Define a posição dos vértices\n",
        "    nx.draw(grafinho, pos, with_labels=True, node_size=1500, node_color=\"skyblue\", font_size=12, font_weight=\"bold\")  # Desenha o grafo\n",
        "    nx.draw_networkx_edge_labels(grafinho, pos, edge_labels={(u, v): f\"{u}{v}\" for u, v in grafinho.edges()}, font_color='red')  # Adiciona rótulos nas arestas"
      ]
    },
    {
      "cell_type": "markdown",
      "metadata": {
        "id": "gMv9B8BjADXu"
      },
      "source": [
        "#### Usuário escolhe os vértices (Entrada de Dados)"
      ]
    },
    {
      "cell_type": "code",
      "execution_count": null,
      "metadata": {
        "id": "7V-dGeOJACrs"
      },
      "outputs": [],
      "source": [
        "# # Usuário define os vértices de um grafo\n",
        "# vertices = []\n",
        "# elemento = None\n",
        "\n",
        "# print(\"\\033[33mInserindo Vértices\\033[0m\")\n",
        "# print(\"Digite os vértices do seu grafo. Digite 'fim' quando todos os grafos forem adicinados\\n\")\n",
        "# while 1:\n",
        "#   elemento = input(\"Vertice: \")\n",
        "#   # controle para parar a estrutura de repetição\n",
        "#   if elemento == \"fim\" or elemento == \"FIM\":\n",
        "#     break\n",
        "\n",
        "#   # controle para não criar grafos sem identificação\n",
        "#   elif elemento == \"\":\n",
        "#     print(\"\\033[31mElementos vazios não podem ser inclusos como vértices do grafo.\\nDigite novamente.\\033[0m\")\n",
        "#     pass\n",
        "\n",
        "#   # controle para não haver vértices com mesma identificação\n",
        "#   elif elemento in vertices:\n",
        "#     print(\"\\033[31mEste elemento já se encontra na lista.\\nDigite novamente.\\033[0m\")\n",
        "\n",
        "#   # incluir elementos bem identificados como vértice a lista que será utilizada posteriormente\n",
        "#   else:\n",
        "#     vertices.append(elemento)\n",
        "#     print(\"\\033[32mElemento adicionado!\\033[0m\")\n",
        "# print(f\"\\n\\033[33mListagem de Vértices:\\033[0m {vertices}\")"
      ]
    },
    {
      "cell_type": "code",
      "execution_count": null,
      "metadata": {
        "id": "_AUAfAo5ARMb"
      },
      "outputs": [],
      "source": [
        "# # Usuário define as arestas de um grafo (baseado nos vértices)\n",
        "# # Não foi implementado controles sobre essa relação\n",
        "# arestas = []\n",
        "# elemento = None\n",
        "\n",
        "# print(\"\\033[33mInserindo Arestas\\033[0m\")\n",
        "# print(\"Digite as aretas do seu grafo no formato 'VerticeVertice'. Digite 'fim' quando todos os grafos forem adicinados\\n\")\n",
        "# while 1:\n",
        "#   elemento = input(\"Aresta: \")\n",
        "#   # controle para parar a estrutura de repetição\n",
        "#   if elemento == \"fim\" or elemento == \"FIM\":\n",
        "#     break\n",
        "\n",
        "#   # controle para não criar grafos sem identificação\n",
        "#   elif elemento == \"\":\n",
        "#     print(\"\\033[31mElementos vazios não podem ser inclusos como vértices do grafo.\\nDigite novamente.\\033[0m\")\n",
        "#     pass\n",
        "\n",
        "#   # controle para não haver vértices com mesma identificação\n",
        "#   elif elemento in arestas:\n",
        "#     print(\"\\033[31mEste elemento já se encontra na lista.\\nDigite novamente.\\033[0m\")\n",
        "\n",
        "#   # incluir elementos bem identificados como vértice a lista que será utilizada posteriormente\n",
        "#   else:\n",
        "#     arestas.append(elemento)\n",
        "#     print(\"\\033[32mElemento adicionado!\\033[0m\")\n",
        "# print(f\"\\n\\033[33mListagem de Arestas:\\033[0m {arestas}\")\n"
      ]
    },
    {
      "cell_type": "code",
      "execution_count": null,
      "metadata": {
        "colab": {
          "base_uri": "https://localhost:8080/",
          "height": 1000
        },
        "id": "Hl8j_MihzbCq",
        "outputId": "8425b631-e2ef-4f06-860b-8ef24f6e2212"
      },
      "outputs": [
        {
          "name": "stdout",
          "output_type": "stream",
          "text": [
            "\n",
            "\u001b[33mLista de Adjacências (como lista comum)\u001b[0m\n",
            "['A', ['E', 'B'], 'B', ['A', 'C', 'E'], 'C', ['B', 'D'], 'D', ['C', 'E', 'F'], 'E', ['E', 'A', 'B', 'D'], 'F', ['D']]\n",
            "\u001b[33mLista de Adjacências (como lista encadeada)\u001b[0m\n",
            "A → [E, B] → B → [A, C, E] → C → [B, D] → D → [C, E, F] → E → [E, A, B, D] → F → [D]\n",
            "\u001b[33mLista de Adjacências (como lista visual)\u001b[0m\n",
            "A → E, B\n",
            "B → A, C, E\n",
            "C → B, D\n",
            "D → C, E, F\n",
            "E → E, A, B, D\n",
            "F → D\n",
            "\n",
            "\u001b[33mMatriz de Adjacências:\u001b[0m\n",
            "  \u001b[34mA\u001b[0m \u001b[34mB\u001b[0m \u001b[34mC\u001b[0m \u001b[34mD\u001b[0m \u001b[34mE\u001b[0m \u001b[34mF\u001b[0m \n",
            "\u001b[34mA\u001b[0m 0 1 0 0 1 0 \n",
            "\u001b[34mB\u001b[0m 1 0 1 0 1 0 \n",
            "\u001b[34mC\u001b[0m 0 1 0 1 0 0 \n",
            "\u001b[34mD\u001b[0m 0 0 1 0 1 1 \n",
            "\u001b[34mE\u001b[0m 1 1 0 1 1 0 \n",
            "\u001b[34mF\u001b[0m 0 0 0 1 0 0 \n",
            "\u001b[33mMatriz de Incidências:\u001b[0m\n",
            "  \u001b[34mAB\u001b[0m \u001b[34mAE\u001b[0m \u001b[34mBC\u001b[0m \u001b[34mCD\u001b[0m \u001b[34mDE\u001b[0m \u001b[34mDF\u001b[0m \u001b[34mEA\u001b[0m \u001b[34mEB\u001b[0m \u001b[34mEE\u001b[0m \n",
            "\u001b[34mA\u001b[0m  1  1  0  0  0  0  1  0  0  \n",
            "\u001b[34mB\u001b[0m  1  0  1  0  0  0  0  1  0  \n",
            "\u001b[34mC\u001b[0m  0  0  1  1  0  0  0  0  0  \n",
            "\u001b[34mD\u001b[0m  0  0  0  1  1  1  0  0  0  \n",
            "\u001b[34mE\u001b[0m  0  1  0  0  1  0  1  1  1  \n",
            "\u001b[34mF\u001b[0m  0  0  0  0  0  1  0  0  0  \n",
            "\u001b[33mMatriz de Incidências:\u001b[0m\n",
            "   \u001b[34mAB\u001b[0m  \u001b[34mAE\u001b[0m  \u001b[34mBC\u001b[0m  \u001b[34mCD\u001b[0m  \u001b[34mDE\u001b[0m  \u001b[34mDF\u001b[0m  \u001b[34mEA\u001b[0m  \u001b[34mEB\u001b[0m  \u001b[34mEE\u001b[0m  \n",
            "\u001b[34mA\u001b[0m  -1  -1   0   0   0   0  +1   0   0  \n",
            "\u001b[34mB\u001b[0m  +1   0  -1   0   0   0   0  +1   0  \n",
            "\u001b[34mC\u001b[0m   0   0  +1  -1   0   0   0   0   0  \n",
            "\u001b[34mD\u001b[0m   0   0   0  +1  -1  -1   0   0   0  \n",
            "\u001b[34mE\u001b[0m   0  +1   0   0  +1   0  -1  -1  -1  \n",
            "\u001b[34mF\u001b[0m   0   0   0   0   0  +1   0   0   0  \n",
            "\u001b[33mRepresentação do Grafo\u001b[0m\n",
            "Este é um grafo direcionado\n"
          ]
        },
        {
          "data": {
            "image/png": "[encoded data removed]",
            "text/plain": [
              "<Figure size 640x480 with 1 Axes>"
            ]
          },
          "metadata": {},
          "output_type": "display_data"
        }
      ],
      "source": [
        "vertices = ['A','B','C','D','E','F']\n",
        "arestas = ['AB','AE','BC','CD','DE','DF','EA','EB','EE']\n",
        "\n",
        "grafinho = Grafo(vertices, arestas)\n",
        "grafinho.cria_lista_encadeada()\n",
        "grafinho.mostra_adjacencias()\n",
        "grafinho.mostrar_lista_adj()\n",
        "grafinho.mostrar_lista_encadeada()\n",
        "grafinho.matriz_adjacente()\n",
        "grafinho.matriz_incidencias()\n",
        "grafinho.matriz_incidencias_orientado()\n",
        "# grafinho.desenhar_grafo()\n",
        "grafinho.desenhar_grafo_direcionado()"
      ]
    },
    {
      "cell_type": "markdown",
      "metadata": {
        "id": "_QgkwOFq2O8w"
      },
      "source": [
        "#### Exemplo de Implementação (Saída de Dados)"
      ]
    },
    {
      "cell_type": "markdown",
      "metadata": {
        "id": "koOAL7chBesA"
      },
      "source": [
        "Exemplo de grafo não direcionado"
      ]
    },
    {
      "cell_type": "code",
      "execution_count": null,
      "metadata": {
        "colab": {
          "base_uri": "https://localhost:8080/",
          "height": 1000
        },
        "id": "Q8ZqCvNK2NPC",
        "outputId": "997e7059-6206-42b0-cc30-1c29c3e9cd3f"
      },
      "outputs": [
        {
          "name": "stdout",
          "output_type": "stream",
          "text": [
            "\n",
            "\u001b[33mLista de Adjacências (como lista comum)\u001b[0m\n",
            "['A', ['E', 'B'], 'B', ['A', 'C', 'E'], 'C', ['B', 'D'], 'D', ['C', 'E', 'F'], 'E', ['E', 'A', 'B', 'D'], 'F', ['D']]\n",
            "\n",
            "\u001b[33mLista de Adjacências (como lista encadeada)\u001b[0m\n",
            "A → [E, B] → B → [A, C, E] → C → [B, D] → D → [C, E, F] → E → [E, A, B, D] → F → [D]\n",
            "\n",
            "\u001b[33mLista de Adjacências (como lista visual)\u001b[0m\n",
            "A → E, B\n",
            "B → A, C, E\n",
            "C → B, D\n",
            "D → C, E, F\n",
            "E → E, A, B, D\n",
            "F → D\n",
            "\n",
            "\u001b[33mMatriz de Adjacências:\u001b[0m\n",
            "  \u001b[34mA\u001b[0m \u001b[34mB\u001b[0m \u001b[34mC\u001b[0m \u001b[34mD\u001b[0m \u001b[34mE\u001b[0m \u001b[34mF\u001b[0m \n",
            "\u001b[34mA\u001b[0m 0 1 0 0 1 0 \n",
            "\u001b[34mB\u001b[0m 1 0 1 0 1 0 \n",
            "\u001b[34mC\u001b[0m 0 1 0 1 0 0 \n",
            "\u001b[34mD\u001b[0m 0 0 1 0 1 1 \n",
            "\u001b[34mE\u001b[0m 1 1 0 1 1 0 \n",
            "\u001b[34mF\u001b[0m 0 0 0 1 0 0 \n",
            "\n",
            "\u001b[33mMatriz de Incidências:\u001b[0m\n",
            "  \u001b[34mAB\u001b[0m \u001b[34mAE\u001b[0m \u001b[34mBC\u001b[0m \u001b[34mBE\u001b[0m \u001b[34mCD\u001b[0m \u001b[34mDE\u001b[0m \u001b[34mDF\u001b[0m \u001b[34mEE\u001b[0m \u001b[34mEA\u001b[0m \n",
            "\u001b[34mA\u001b[0m  1  1  0  0  0  0  0  0  1  \n",
            "\u001b[34mB\u001b[0m  1  0  1  1  0  0  0  0  0  \n",
            "\u001b[34mC\u001b[0m  0  0  1  0  1  0  0  0  0  \n",
            "\u001b[34mD\u001b[0m  0  0  0  0  1  1  1  0  0  \n",
            "\u001b[34mE\u001b[0m  0  1  0  1  0  1  0  1  1  \n",
            "\u001b[34mF\u001b[0m  0  0  0  0  0  0  1  0  0  \n",
            "\n",
            "\u001b[33mRepresentação do Grafo\u001b[0m\n",
            "Este é um grafo não-direcionado\n",
            "\n"
          ]
        },
        {
          "data": {
            "image/png": "[encoded data removed]",
            "text/plain": [
              "<Figure size 640x480 with 1 Axes>"
            ]
          },
          "metadata": {},
          "output_type": "display_data"
        }
      ],
      "source": [
        "vertices = ['A','B','C','D','E', 'F']\n",
        "arestas = ['AB','AE','BC','BE','CD','DE','DF','EE','EA']\n",
        "\n",
        "grafinho = Grafo(vertices, arestas)\n",
        "grafinho.cria_lista_encadeada()\n",
        "grafinho.mostra_adjacencias() # lista de ajdacencias comum\n",
        "print()\n",
        "grafinho.mostrar_lista_adj() # lista de adjacencias encadeada\n",
        "print()\n",
        "grafinho.mostrar_lista_encadeada() # lista de adjacencias visual\n",
        "grafinho.matriz_adjacente() # matriz de adjacencias\n",
        "print()\n",
        "grafinho.matriz_incidencias() # matriz de incidencias\n",
        "print()\n",
        "grafinho.desenhar_grafo() # representação do grafo\n",
        "print()"
      ]
    },
    {
      "cell_type": "markdown",
      "metadata": {
        "id": "sflVcFRdBr02"
      },
      "source": [
        "Exemplo de Grafo Direcionado"
      ]
    },
    {
      "cell_type": "code",
      "execution_count": null,
      "metadata": {
        "colab": {
          "base_uri": "https://localhost:8080/",
          "height": 1000
        },
        "id": "9k-cZ3W8_EZM",
        "outputId": "e73b217f-a796-4bc4-ee78-76c5ff5db8ea"
      },
      "outputs": [
        {
          "name": "stdout",
          "output_type": "stream",
          "text": [
            "\n",
            "\u001b[33mLista de Adjacências (como lista comum)\u001b[0m\n",
            "['A', ['C', 'B'], 'B', ['A', 'C'], 'C', ['A', 'B', 'D'], 'D', ['C', 'E'], 'E', ['D', 'E']]\n",
            "\n",
            "\u001b[33mLista de Adjacências (como lista encadeada)\u001b[0m\n",
            "A → [C, B] → B → [A, C] → C → [A, B, D] → D → [C, E] → E → [D, E]\n",
            "\n",
            "\u001b[33mLista de Adjacências (como lista visual)\u001b[0m\n",
            "A → C, B\n",
            "B → A, C\n",
            "C → A, B, D\n",
            "D → C, E\n",
            "E → D, E\n",
            "\n",
            "\u001b[33mMatriz de Adjacências:\u001b[0m\n",
            "  \u001b[34mA\u001b[0m \u001b[34mB\u001b[0m \u001b[34mC\u001b[0m \u001b[34mD\u001b[0m \u001b[34mE\u001b[0m \n",
            "\u001b[34mA\u001b[0m 0 1 1 0 0 \n",
            "\u001b[34mB\u001b[0m 1 0 1 0 0 \n",
            "\u001b[34mC\u001b[0m 1 1 0 1 0 \n",
            "\u001b[34mD\u001b[0m 0 0 1 0 1 \n",
            "\u001b[34mE\u001b[0m 0 0 0 1 1 \n",
            "\n",
            "\u001b[33mMatriz de Incidências:\u001b[0m\n",
            "   \u001b[34mAC\u001b[0m  \u001b[34mAB\u001b[0m  \u001b[34mBC\u001b[0m  \u001b[34mCD\u001b[0m  \u001b[34mDE\u001b[0m  \u001b[34mEE\u001b[0m  \n",
            "\u001b[34mA\u001b[0m  -1  -1   0   0   0   0  \n",
            "\u001b[34mB\u001b[0m   0  +1  -1   0   0   0  \n",
            "\u001b[34mC\u001b[0m  +1   0  +1  -1   0   0  \n",
            "\u001b[34mD\u001b[0m   0   0   0  +1  -1   0  \n",
            "\u001b[34mE\u001b[0m   0   0   0   0  +1  -1  \n",
            "\n",
            "\u001b[33mRepresentação do Grafo\u001b[0m\n",
            "Este é um grafo direcionado\n",
            "\n"
          ]
        },
        {
          "data": {
            "image/png": "[encoded data removed]",
            "text/plain": [
              "<Figure size 640x480 with 1 Axes>"
            ]
          },
          "metadata": {},
          "output_type": "display_data"
        }
      ],
      "source": [
        "vertices = ['A','B','C','D','E']\n",
        "arestas = ['AC','AB','BC','CD','DE','EE']\n",
        "\n",
        "grafinho = Grafo(vertices, arestas)\n",
        "grafinho.cria_lista_encadeada()\n",
        "grafinho.mostra_adjacencias() # lista de ajdacencias comum\n",
        "print()\n",
        "grafinho.mostrar_lista_adj() # lista de adjacencias encadeada\n",
        "print()\n",
        "grafinho.mostrar_lista_encadeada() # lista de adjacencias visual\n",
        "grafinho.matriz_adjacente() # matriz de adjacencias\n",
        "print()\n",
        "grafinho.matriz_incidencias_orientado() # matriz de incidencias\n",
        "print()\n",
        "grafinho.desenhar_grafo_direcionado() # representação do grafo\n",
        "print()"
      ]
    }
  ],
  "metadata": {
    "colab": {
      "provenance": []
    },
    "kernelspec": {
      "display_name": "Python 3",
      "name": "python3"
    },
    "language_info": {
      "codemirror_mode": {
        "name": "ipython",
        "version": 3
      },
      "file_extension": ".py",
      "mimetype": "text/x-python",
      "name": "python",
      "nbconvert_exporter": "python",
      "pygments_lexer": "ipython3",
      "version": "3.11.9"
    }
  },
  "nbformat": 4,
  "nbformat_minor": 0
}
